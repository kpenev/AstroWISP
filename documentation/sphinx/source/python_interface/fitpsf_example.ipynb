{
 "cells": [
  {
   "cell_type": "markdown",
   "metadata": {},
   "source": [
    "# Example of PSF Fitting Using Mock Data"
   ]
  },
  {
   "cell_type": "markdown",
   "metadata": {},
   "source": [
    "## Step 1: Prepare Mock Input Data for PSF Fitting"
   ]
  },
  {
   "cell_type": "markdown",
   "metadata": {},
   "source": [
    "Import the required objects for creating mock input data to demonstrate PSF fitting."
   ]
  },
  {
   "cell_type": "code",
   "execution_count": 2,
   "metadata": {},
   "outputs": [],
   "source": [
    "from matplotlib import pyplot\n",
    "import numpy\n",
    "from ctypes import c_ubyte\n",
    "\n",
    "import sys\n",
    "sys.path.insert(0, '/Users/kpenev/projects/git/SuperPhot/PythonPackage')\n",
    "sys.path.insert(0, '/Users/kpenev/projects/git/SuperPhot/PythonPackage/tests')\n",
    "\n",
    "from superphot.fake_image.piecewise_bicubic_psf import PiecewiseBicubicPSF\n",
    "from test_fit_star_shape.utils import make_image_and_source_list"
   ]
  },
  {
   "cell_type": "markdown",
   "metadata": {},
   "source": [
    "Create a mock image, sub-pixel map and list of sources to demonstrate PSF fitting.\n",
    "\n",
    "The properties of the created items are:\n",
    "\n",
    "  * The image contains a single source with center at (5, 5).\n",
    "\n",
    "  * The PSF is on a bicubic grid with x boundaries -2, 0 and 2 and y boundaries -1, 0, 1 relative to the center.\n",
    "  \n",
    "  * The PSF, its first order derivatives and the x-y cross derivative are all zero at the boundaries\n",
    "    $$x=\\pm2 \\quad\\mathrm{or}\\quad y=\\pm1$$\n",
    "    \n",
    "  * The first order derivative and the x-y cross derivative are zero at the center (x=0, y=0) and the values is 1 ADU.\n",
    "  \n",
    "  * The image has a background of 1 ADU\n",
    "  \n",
    "  * The source list contains exactly the following columns: `ID`, `x` and `y` giving a unique Id for the source and \n",
    "    the position of its center in the image\n",
    "    \n",
    "  * The sub-pixel map is a good approximation for the effective sensitivity map that should be used for DSLR cameras, \n",
    "    which stagger 4 channels on the image, and hence only a quarter of each \"pixel\" is sensitive for each channel"
   ]
  },
  {
   "cell_type": "code",
   "execution_count": 3,
   "metadata": {},
   "outputs": [
    {
     "name": "stdout",
     "output_type": "stream",
     "text": [
      "Source list:array([(b'000000', 5., 5.)],\n",
      "      dtype=[('ID', 'S6'), ('x', '<f8'), ('y', '<f8')])\n"
     ]
    },
    {
     "data": {
      "image/png": "[encoded data removed]",
      "text/plain": [
       "<matplotlib.figure.Figure at 0x10ceb5d68>"
      ]
     },
     "metadata": {},
     "output_type": "display_data"
    }
   ],
   "source": [
    "subpix_map = numpy.array([[0.0, 0.0], [0.0, 4.0]])\n",
    "\n",
    "values = numpy.zeros((3, 3))\n",
    "d_dx = numpy.zeros((3, 3))\n",
    "d_dy = numpy.zeros((3, 3))\n",
    "d2_dxdy = numpy.zeros((3, 3))\n",
    "values[1, 1] = 1.0\n",
    "        \n",
    "sources = [\n",
    "    dict(\n",
    "        x=5.0,\n",
    "        y=5.0,\n",
    "        psf=PiecewiseBicubicPSF(\n",
    "            psf_parameters=dict(\n",
    "                values=values,\n",
    "                d_dx=d_dx,\n",
    "                d_dy=d_dy,\n",
    "                d2_dxdy=d2_dxdy\n",
    "            ),\n",
    "            boundaries=dict(x=numpy.array([-2.0, 0.0, 2.0]),\n",
    "                            y=numpy.array([-1.0, 0.0, 1.0]))\n",
    "        )\n",
    "    )\n",
    "]\n",
    "\n",
    "image, source_list = make_image_and_source_list(sources, extra_variables=[], subpix_map=subpix_map)\n",
    "pyplot.imshow(image, cmap=pyplot.cm.bone)\n",
    "pyplot.title('Image')\n",
    "print('Source list:' + repr(source_list))"
   ]
  },
  {
   "cell_type": "code",
   "execution_count": 4,
   "metadata": {},
   "outputs": [
    {
     "data": {
      "image/png": "[encoded data removed]",
      "text/plain": [
       "<matplotlib.figure.Figure at 0x10ce82518>"
      ]
     },
     "metadata": {},
     "output_type": "display_data"
    }
   ],
   "source": [
    "pyplot.imshow(subpix_map, cmap=pyplot.cm.bone)\n",
    "pyplot.title('Sub-pixel sensivity map');"
   ]
  },
  {
   "cell_type": "markdown",
   "metadata": {},
   "source": [
    "## Step 2: Perform the PSF Fitting"
   ]
  },
  {
   "cell_type": "markdown",
   "metadata": {},
   "source": [
    "Import the required objects for PSF fitting and Background extraction"
   ]
  },
  {
   "cell_type": "code",
   "execution_count": 5,
   "metadata": {},
   "outputs": [],
   "source": [
    "from superphot import FitStarShape, BackgroundExtractor"
   ]
  },
  {
   "cell_type": "markdown",
   "metadata": {},
   "source": [
    "Construct a PSF fitting object"
   ]
  },
  {
   "cell_type": "code",
   "execution_count": 6,
   "metadata": {},
   "outputs": [],
   "source": [
    "fit_star_shape = FitStarShape(\n",
    "    mode='PSF', # use PSF fitting (as opposed to PRF)\n",
    "    shape_terms='{1}', # Assume the PSF is the same for all sources\n",
    "    grid=[numpy.array([-2.0, 0.0, 2.0]),\n",
    "          numpy.array([-1.0, 0.0, 1.0])], # Use the same grid that was used to create the sources\n",
    "    initial_aperture=3.0, # Initial guess for source flux will be measured using an aperture with radius 3 pixels\n",
    "    subpixmap=subpix_map, # Assume the same sub-pixel map that was used to generate the image\n",
    "    max_abs_amplitude_change=0.0, # Force convergence based entirely on relative change in the amplitudes\n",
    "    max_rel_amplitude_change=1e-6, # Require that the flux estimates change by no more than ppm for convergence\n",
    "    bg_min_pix=3 #Require that the background is determined using at least 3 pixels\n",
    ")"
   ]
  },
  {
   "cell_type": "markdown",
   "metadata": {},
   "source": [
    "Measure the background behind the sources."
   ]
  },
  {
   "cell_type": "code",
   "execution_count": 7,
   "metadata": {},
   "outputs": [],
   "source": [
    "background = BackgroundExtractor(\n",
    "    image,\n",
    "    3, # Include only pixels with centers at least 3 pixels away from the source center.\n",
    "    6  # Include only pixels with centers at most 6 pixels away from the source center.\n",
    ")\n",
    "background(\n",
    "    numpy.array([5.0]), # list of source x coordinates\n",
    "    numpy.array([5.0])  # list of source y coordinates\n",
    ");"
   ]
  },
  {
   "cell_type": "markdown",
   "metadata": {},
   "source": [
    "Find the best-fit PSF shape."
   ]
  },
  {
   "cell_type": "code",
   "execution_count": 8,
   "metadata": {},
   "outputs": [],
   "source": [
    "result_tree = fit_star_shape.fit(\n",
    "    [\n",
    "        (\n",
    "            image, # The pixel values in the image\n",
    "            image**0.5, # Standard deviations of the pixels values (assume Poisson noise only and gain of 1)\n",
    "            numpy.zeros(image.shape, dtype=c_ubyte),\n",
    "            source_list\n",
    "        )\n",
    "    ],\n",
    "    [background]\n",
    ")"
   ]
  },
  {
   "cell_type": "code",
   "execution_count": 9,
   "metadata": {},
   "outputs": [
    {
     "name": "stdout",
     "output_type": "stream",
     "text": [
      "PSF map coefficients: array([ 5.00000000e-01,  1.51662586e-16, -1.65018810e-17, -2.77749592e-15])\n",
      "PSF fit flux: array([2.])\n"
     ]
    }
   ],
   "source": [
    "print('PSF map coefficients: ' + repr(result_tree.get('psffit.psfmap', shape=(4,))))\n",
    "print('PSF fit flux: ' + repr(result_tree.get('psffit.flux.0', shape=(1,))))"
   ]
  },
  {
   "cell_type": "markdown",
   "metadata": {},
   "source": [
    "# Aperture Photometry"
   ]
  },
  {
   "cell_type": "markdown",
   "metadata": {
    "slideshow": {
     "slide_type": "slide"
    }
   },
   "source": [
    "Import the aperture photometry object"
   ]
  },
  {
   "cell_type": "code",
   "execution_count": 10,
   "metadata": {},
   "outputs": [],
   "source": [
    "from superphot import SubPixPhot"
   ]
  },
  {
   "cell_type": "markdown",
   "metadata": {},
   "source": [
    "Construct an aperture photometry object"
   ]
  },
  {
   "cell_type": "code",
   "execution_count": null,
   "metadata": {},
   "outputs": [],
   "source": [
    "do_apphot = SubPixPhot(subpixmap=subpix_map,\n",
    "                       apertures=[1.0, 2.0, 3.0])"
   ]
  }
 ],
 "metadata": {
  "kernelspec": {
   "display_name": "Python 3",
   "language": "python",
   "name": "python3"
  },
  "language_info": {
   "codemirror_mode": {
    "name": "ipython",
    "version": 3
   },
   "file_extension": ".py",
   "mimetype": "text/x-python",
   "name": "python",
   "nbconvert_exporter": "python",
   "pygments_lexer": "ipython3",
   "version": "3.6.4"
  }
 },
 "nbformat": 4,
 "nbformat_minor": 2
}
